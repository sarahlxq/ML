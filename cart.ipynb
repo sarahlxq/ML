{
 "cells": [
  {
   "cell_type": "code",
   "execution_count": 229,
   "metadata": {},
   "outputs": [],
   "source": [
    "import numpy as np\n",
    "\n",
    "def binSplitDataSet(dataSet, feature, val):\n",
    "    mat0 = dataSet[np.nonzero(dataSet[:,feature] > val),:][0]\n",
    "    #mat0 = dataSet[(np.array([0]), np.array([0])),:][0]\n",
    "   # print(mat0)\n",
    "    mat1 = dataSet[np.nonzero(dataSet[:,feature] <= val),:][0]\n",
    "    #print(np.nonzero(dataSet[:,feature] <= val))\n",
    "    #print(dataSet[np.nonzero(dataSet[:,feature] <= val),:])\n",
    "    return mat0, mat1\n"
   ]
  },
  {
   "cell_type": "code",
   "execution_count": 230,
   "metadata": {},
   "outputs": [
    {
     "name": "stdout",
     "output_type": "stream",
     "text": [
      "mat [[1. 0. 0.]\n",
      " [0. 1. 0.]\n",
      " [0. 0. 1.]]\n",
      "(matrix([[1., 0., 0.]]), matrix([[0., 1., 0.],\n",
      "        [0., 0., 1.]]))\n"
     ]
    }
   ],
   "source": [
    "testMat = np.mat(np.eye(3))\n",
    "print(\"mat\",testMat)\n",
    "print(binSplitDataSet(testMat,0, 0.5))"
   ]
  },
  {
   "cell_type": "code",
   "execution_count": 231,
   "metadata": {},
   "outputs": [],
   "source": [
    "dataSet = np.random.randn(100,2)\n",
    "#print(dataSet)"
   ]
  },
  {
   "cell_type": "code",
   "execution_count": 232,
   "metadata": {},
   "outputs": [],
   "source": [
    "def regLeaf(dataSet):\n",
    "    return np.mean(dataSet[:,-1])"
   ]
  },
  {
   "cell_type": "code",
   "execution_count": 233,
   "metadata": {},
   "outputs": [],
   "source": [
    "def regErr(dataSet):\n",
    "    return np.var(dataSet[:,-1]) * np.shape(dataSet)[0]\n"
   ]
  },
  {
   "cell_type": "code",
   "execution_count": 234,
   "metadata": {},
   "outputs": [],
   "source": [
    "def chooseBestSplit(dataSet, leafType=regLeaf, errType=regErr, ops=(1,4)):\n",
    "    tolS = ops[0]\n",
    "    tolN = ops[1]\n",
    "    if len(set(dataSet[:,-1].T.tolist())) == 1:\n",
    "        return None, leafType(dataSet)\n",
    "    \n",
    "    m,n = np.shape(dataSet)\n",
    "    S = errType(dataSet)\n",
    "    bestS = np.Inf; bestIndex = 0; bestValue = 0\n",
    "    for featIndex in range(n-1):\n",
    "        #print(\"featindex:\",featIndex)\n",
    "        for splitVal in set(dataSet[:, featIndex]):\n",
    "           # print(\"splitVal:\",splitVal)\n",
    "            mat0, mat1 = binSplitDataSet(dataSet, featIndex, splitVal)\n",
    "            #print(\"mat0:\",mat0)\n",
    "            #print(\"mat1\",mat1)\n",
    "            if ((np.shape(mat0)[0] < tolN) or (np.shape(mat1)[0] < tolN)):\n",
    "                continue\n",
    "            newS = errType(mat0) + errType(mat1)\n",
    "           # print(\"newS:\",newS, \" bestS:\",bestS)\n",
    "            if newS < bestS:\n",
    "                bestIndex = featIndex\n",
    "                bestValue = splitVal\n",
    "                bestS = newS\n",
    "    print(\"S:\",S, \" bestS:\",bestS)\n",
    "    if abs(S-bestS) < tolS:\n",
    "        return None, leafType(dataSet)\n",
    "    mat0, mat1 = binSplitDataSet(dataSet, bestIndex, bestValue)\n",
    "    #print(\"mat0:\",mat0, \" mat1:\",mat1)\n",
    "    if ((np.shape(mat0)[0] < tolN) or (np.shape(mat1)[0] < tolN)):\n",
    "        return None, leafType(dataSet)\n",
    "    return bestIndex, bestValue\n",
    "    \n",
    "        "
   ]
  },
  {
   "cell_type": "code",
   "execution_count": 235,
   "metadata": {},
   "outputs": [],
   "source": [
    "#res = chooseBestSplit(dataSet)"
   ]
  },
  {
   "cell_type": "code",
   "execution_count": 236,
   "metadata": {},
   "outputs": [],
   "source": [
    "def createTree(dataSet, leafType=regLeaf, errType=regErr, ops=(1,4)):\n",
    "    feat, val = chooseBestSplit(dataSet, leafType, errType, ops)\n",
    "    print(\"feat:\",feat, \" val:\",val)\n",
    "    if feat == None: return val\n",
    "    retTree = {}\n",
    "    retTree['spInd'] = feat\n",
    "    retTree['spVal'] = val\n",
    "    lSet, rSet = binSplitDataSet(dataSet, feat, val)\n",
    "    retTree['left'] = createTree(lSet, leafType, errType, ops)\n",
    "    retTree['right'] = createTree(rSet, leafType, errType, ops)\n",
    "    return retTree"
   ]
  },
  {
   "cell_type": "code",
   "execution_count": 237,
   "metadata": {},
   "outputs": [
    {
     "name": "stdout",
     "output_type": "stream",
     "text": [
      "S: 96.84713211690286  bestS: 89.97469027586399\n",
      "feat: 0  val: -0.9716793775394036\n",
      "S: 77.57456639679812  bestS: 75.35240902735308\n",
      "feat: 0  val: 0.9651004976637987\n",
      "S: 25.148843122400127  bestS: 20.377561504516887\n",
      "feat: 0  val: 1.1927950454878795\n",
      "S: 18.423141860633862  bestS: 17.023851265279347\n",
      "feat: 0  val: 1.8719637044096455\n",
      "S: 0.4346856707708735  bestS: inf\n",
      "feat: None  val: -0.18251493288552686\n",
      "S: 16.589165594508476  bestS: 13.918310789779577\n",
      "feat: 0  val: 1.7397095891798164\n",
      "S: 11.60790207817771  bestS: inf\n",
      "feat: None  val: 1.1373875359197814\n",
      "S: 2.3104087116018657  bestS: inf\n",
      "feat: None  val: 0.04108253176810596\n",
      "S: 1.954419643883024  bestS: inf\n",
      "feat: None  val: -0.8398606384500908\n",
      "S: 50.203565904952946  bestS: 47.30965965514419\n",
      "feat: 0  val: 0.7279047743987712\n",
      "S: 7.846881440002596  bestS: inf\n",
      "feat: None  val: 0.9947164976929255\n",
      "S: 39.46277821514159  bestS: 36.36922904382317\n",
      "feat: 0  val: 0.5579742186405845\n",
      "S: 2.476981750335296  bestS: 2.3538457128483348\n",
      "feat: None  val: -0.2248314251896147\n",
      "S: 33.89224729348787  bestS: 31.899385767004162\n",
      "feat: 0  val: 0.3502458011270344\n",
      "S: 1.1225360355432386  bestS: inf\n",
      "feat: None  val: 1.0112742394654268\n",
      "S: 30.776849731460924  bestS: 29.162848219007643\n",
      "feat: 0  val: 0.17628139646442537\n",
      "S: 0.3008144972444872  bestS: inf\n",
      "feat: None  val: -0.26061286266767236\n",
      "S: 28.862033721763154  bestS: 26.713119261425856\n",
      "feat: 0  val: 0.05470770849194781\n",
      "S: 2.8205270467042802  bestS: inf\n",
      "feat: None  val: 1.1009539135074764\n",
      "S: 23.892592214721574  bestS: 23.072388305457\n",
      "feat: None  val: 0.3283474914353916\n",
      "S: 12.400123879065866  bestS: 10.90453824301312\n",
      "feat: 0  val: -1.1418852594685114\n",
      "S: 3.3581541271741755  bestS: inf\n",
      "feat: None  val: -0.9313682183385128\n",
      "S: 7.5463841158389435  bestS: 7.2290574277134905\n",
      "feat: None  val: -0.23212472860098105\n"
     ]
    }
   ],
   "source": [
    "ans = createTree(dataSet)\n"
   ]
  },
  {
   "cell_type": "code",
   "execution_count": 238,
   "metadata": {},
   "outputs": [],
   "source": [
    "def isTree(obj):\n",
    "    return (type(obj).__name__ == 'dict')"
   ]
  },
  {
   "cell_type": "code",
   "execution_count": 239,
   "metadata": {},
   "outputs": [],
   "source": [
    "def getMean(tree):\n",
    "    if isTree(tree['left']):\n",
    "        tree['left'] = getMean(tree['left'])\n",
    "    if isTree(tree['right']):\n",
    "        tree['right'] = getMean(tree['right'])\n",
    "    return (tree['left'] + tree['right']) / 2.0"
   ]
  },
  {
   "cell_type": "code",
   "execution_count": 240,
   "metadata": {},
   "outputs": [],
   "source": [
    "def prune(tree, testData):\n",
    "    #print(\"shape:\",np.shape(testData), testData[0])\n",
    "    if (np.shape(testData)[0] == 0):\n",
    "        return getMean(tree)\n",
    "    lSet, rSet = binSplitDataSet(testData, tree['spInd'], tree['spVal'])\n",
    "    if isTree(tree['left']):\n",
    "        tree['left'] = prune(tree['left'], lSet)\n",
    "    if isTree(tree['right']):\n",
    "        tree['right'] = prune(tree['right'], rSet)\n",
    "    if not isTree(tree['left']) and not isTree(tree['right']):\n",
    "        errNoMerge = sum(np.power((lSet[:,-1] - tree['left']),2)) + sum(np.power((rSet[:,-1] - tree['right']),2))\n",
    "        treeMean = getMean(tree)\n",
    "        errMerge = sum(np.power(testData[:,-1] - treeMean, 2))\n",
    "        if (errMerge < errNoMerge):\n",
    "            return treeMean\n",
    "        else:\n",
    "            return tree\n",
    "    else:\n",
    "        return tree"
   ]
  },
  {
   "cell_type": "code",
   "execution_count": 241,
   "metadata": {},
   "outputs": [],
   "source": [
    "def loadDataSet(fileName):\n",
    "    dataMat = []\n",
    "    fr = open(fileName)\n",
    "    for line in fr.readlines():\n",
    "        curLine = line.strip().split('\\t')\n",
    "        fltLine = map(float, curLine)   #将数据映射成浮点型,返回的是map的地址\n",
    "        dataMat.append(list(fltLine))\n",
    "    return dataMat"
   ]
  },
  {
   "cell_type": "code",
   "execution_count": 242,
   "metadata": {},
   "outputs": [
    {
     "name": "stdout",
     "output_type": "stream",
     "text": [
      "{'spInd': 0, 'spVal': -0.9716793775394036, 'left': {'spInd': 0, 'spVal': 0.9651004976637987, 'left': -0.31825029398544125, 'right': {'spInd': 0, 'spVal': 0.7279047743987712, 'left': 0.9947164976929255, 'right': {'spInd': 0, 'spVal': 0.5579742186405845, 'left': -0.2248314251896147, 'right': {'spInd': 0, 'spVal': 0.3502458011270344, 'left': 1.0112742394654268, 'right': {'spInd': 0, 'spVal': 0.17628139646442537, 'left': -0.26061286266767236, 'right': {'spInd': 0, 'spVal': 0.05470770849194781, 'left': 1.1009539135074764, 'right': 0.3283474914353916}}}}}}, 'right': -0.581746473469747}\n"
     ]
    }
   ],
   "source": [
    "ex2TestData = loadDataSet('datatest/ex2test.txt')\n",
    "prnueTree = prune(ans, np.mat(ex2TestData))\n",
    "print(prnueTree)"
   ]
  },
  {
   "cell_type": "code",
   "execution_count": 243,
   "metadata": {},
   "outputs": [
    {
     "data": {
      "image/png": "[encoded data removed]",
      "text/plain": [
       "<Figure size 640x480 with 1 Axes>"
      ]
     },
     "metadata": {},
     "output_type": "display_data"
    }
   ],
   "source": [
    "import matplotlib.pyplot as plt\n",
    "\n",
    "plt.subplot(121)\n",
    "plt.scatter(dataSet[:,0], dataSet[:,1])\n",
    "\n",
    "plt.show()"
   ]
  }
 ],
 "metadata": {
  "kernelspec": {
   "display_name": "Python 3.7.3 64-bit",
   "language": "python",
   "name": "python3"
  },
  "language_info": {
   "codemirror_mode": {
    "name": "ipython",
    "version": 3
   },
   "file_extension": ".py",
   "mimetype": "text/x-python",
   "name": "python",
   "nbconvert_exporter": "python",
   "pygments_lexer": "ipython3",
   "version": "3.9.16"
  },
  "orig_nbformat": 4,
  "vscode": {
   "interpreter": {
    "hash": "916dbcbb3f70747c44a77c7bcd40155683ae19c65e1c03b4aa3499c5328201f1"
   }
  }
 },
 "nbformat": 4,
 "nbformat_minor": 2
}
