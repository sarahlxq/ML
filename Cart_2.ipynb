{
 "cells": [
  {
   "cell_type": "code",
   "execution_count": 909,
   "metadata": {},
   "outputs": [],
   "source": [
    "import numpy as np\n",
    "import matplotlib.pyplot as plt\n",
    "import pandas as pd\n",
    "\n",
    "from sklearn.datasets import load_iris\n",
    "from sklearn.model_selection import train_test_split"
   ]
  },
  {
   "cell_type": "code",
   "execution_count": 910,
   "metadata": {},
   "outputs": [],
   "source": [
    "#iris = load_iris()\n",
    "#df = pd.DataFrame(iris.data, columns=iris.feature_names)\n",
    "#df['label'] = iris.target\n",
    "#df.columns = ['sepal length', 'sepal width', 'petal length', 'petal width', 'label']\n",
    "#data = np.array(df)\n",
    "#X, y = data[:,:-1], data[:,-1]\n",
    "#X_train, X_test, y_train, y_test = train_test_split(X, y, test_size=0.2)"
   ]
  },
  {
   "attachments": {},
   "cell_type": "markdown",
   "metadata": {},
   "source": [
    "分类树，计算gini指数作为判断条件。后剪枝的方法。"
   ]
  },
  {
   "cell_type": "code",
   "execution_count": 911,
   "metadata": {},
   "outputs": [],
   "source": [
    "features = [\"年龄\", \"有工作\", \"有自己的房子\", \"信贷情况\"]\n",
    "X_train = pd.DataFrame([\n",
    "    [\"0\", \"0\", \"0\", \"0\"],\n",
    "    [\"0\", \"0\", \"0\", \"1\"],\n",
    "    [\"0\", \"1\", \"0\", \"1\"],\n",
    "    [\"0\", \"1\", \"1\", \"0\"],\n",
    "    [\"0\", \"0\", \"0\", \"0\"],\n",
    "    [\"1\", \"0\", \"0\", \"0\"],\n",
    "    [\"1\", \"0\", \"0\", \"1\"],\n",
    "    [\"1\", \"1\", \"1\", \"1\"],\n",
    "    [\"1\", \"0\", \"1\", \"2\"],\n",
    "    [\"1\", \"0\", \"1\", \"2\"],\n",
    "    [\"2\", \"0\", \"1\", \"2\"],\n",
    "    [\"2\", \"0\", \"1\", \"1\"],\n",
    "    [\"2\", \"1\", \"0\", \"1\"],\n",
    "    [\"2\", \"1\", \"0\", \"2\"],\n",
    "    [\"2\", \"0\", \"0\", \"0\"]\n",
    "])\n",
    "\n",
    "X_train = np.array(X_train).astype(np.int32)\n",
    "\n",
    "y_train = pd.DataFrame([\"否\", \"否\", \"是\", \"是\", \"否\", \n",
    "                        \"否\", \"否\", \"是\", \"是\", \"是\", \n",
    "                        \"是\", \"是\", \"是\", \"是\", \"否\"])\n",
    "\n",
    "#print((X_train))"
   ]
  },
  {
   "cell_type": "code",
   "execution_count": 912,
   "metadata": {},
   "outputs": [],
   "source": [
    "#print(np.array(y_train))\n",
    "y = np.zeros(len(y_train))\n",
    "i = 0\n",
    "for ele in np.array(y_train):\n",
    "    if ele == '是':\n",
    "        y[i] = 1\n",
    "    else:\n",
    "        y[i] = -1\n",
    "    i += 1\n",
    "#print(y)"
   ]
  },
  {
   "cell_type": "code",
   "execution_count": 913,
   "metadata": {},
   "outputs": [
    {
     "name": "stdout",
     "output_type": "stream",
     "text": [
      "[[ 1.  0.  1.  2.  1.]\n",
      " [ 0.  1.  0.  1.  1.]\n",
      " [ 1.  0.  1.  2.  1.]\n",
      " [ 2.  1.  0.  1.  1.]\n",
      " [ 0.  1.  1.  0.  1.]\n",
      " [ 0.  0.  0.  0. -1.]\n",
      " [ 0.  0.  0.  0. -1.]\n",
      " [ 1.  1.  1.  1.  1.]\n",
      " [ 0.  0.  0.  1. -1.]\n",
      " [ 2.  1.  0.  2.  1.]\n",
      " [ 1.  0.  0.  1. -1.]\n",
      " [ 1.  0.  0.  0. -1.]] \n",
      " [[ 2.  0.  1.  1.  1.]\n",
      " [ 2.  0.  0.  0. -1.]\n",
      " [ 2.  0.  1.  2.  1.]]\n"
     ]
    }
   ],
   "source": [
    "#print(X_train, y)\n",
    "dataSet = np.c_[X_train, y]\n",
    "X, X_test, y_train, y_test = train_test_split(X_train, y, test_size=0.2)\n",
    "#print(X)\n",
    "#print(np.shape(dataSet))\n",
    "#print(X_test, y_test)\n",
    "dataSet = np.c_[X, y_train]\n",
    "testSet = np.c_[X_test,y_test]\n",
    "print(dataSet,\"\\n\", testSet)"
   ]
  },
  {
   "cell_type": "code",
   "execution_count": 914,
   "metadata": {},
   "outputs": [],
   "source": [
    "def calcGini(dataSet):\n",
    "    numEntries = len(dataSet)\n",
    "    labelCounts = {}\n",
    "    for featVec in dataSet:\n",
    "        currentLabel = featVec[-1]\n",
    "       # print(currentLabel)\n",
    "        if currentLabel not in labelCounts.keys():\n",
    "            labelCounts[currentLabel] = 0\n",
    "        labelCounts[currentLabel] += 1\n",
    "    Gini = 1.0\n",
    "    for key in labelCounts:\n",
    "        prob = float(labelCounts[key] / numEntries)\n",
    "        Gini -= prob*prob\n",
    "    return Gini\n",
    "        "
   ]
  },
  {
   "cell_type": "code",
   "execution_count": 915,
   "metadata": {},
   "outputs": [
    {
     "data": {
      "text/plain": [
       "0.48611111111111094"
      ]
     },
     "execution_count": 915,
     "metadata": {},
     "output_type": "execute_result"
    }
   ],
   "source": [
    "calcGini(dataSet)"
   ]
  },
  {
   "cell_type": "code",
   "execution_count": 916,
   "metadata": {},
   "outputs": [],
   "source": [
    "def calcGiniWithFeat(dataSet, feature, value):\n",
    "    D0 = []; D1 = []\n",
    "    for featVec in dataSet:\n",
    "        if featVec[feature] == value:\n",
    "            D0.append(featVec)\n",
    "        else:\n",
    "            D1.append(featVec)\n",
    "    Gini = len(D0) / len(dataSet) * calcGini(D0) + len(D1) / len(dataSet) * calcGini(D1)\n",
    "    return Gini"
   ]
  },
  {
   "cell_type": "code",
   "execution_count": 917,
   "metadata": {},
   "outputs": [
    {
     "data": {
      "text/plain": [
       "0.4857142857142858"
      ]
     },
     "execution_count": 917,
     "metadata": {},
     "output_type": "execute_result"
    }
   ],
   "source": [
    "calcGiniWithFeat(dataSet, 0, 1)"
   ]
  },
  {
   "cell_type": "code",
   "execution_count": 918,
   "metadata": {},
   "outputs": [],
   "source": [
    "#print(len(features))\n",
    "\n"
   ]
  },
  {
   "attachments": {},
   "cell_type": "markdown",
   "metadata": {},
   "source": [
    "选择最好的特征进行分割，根据计算的gini，选择最小的gini对应的特征。"
   ]
  },
  {
   "cell_type": "code",
   "execution_count": 919,
   "metadata": {},
   "outputs": [],
   "source": [
    "def chooseBestSplit(dataSet):\n",
    "    numFeatures = len(features)\n",
    "    bestGini = np.Inf; bestFeat = 0; bestValue = 0; newGini = 0\n",
    "    for i in range(numFeatures):\n",
    "        featList = [example[i] for example in dataSet]\n",
    "        uniqueVals = set(featList)\n",
    "        for splitVal in uniqueVals:\n",
    "            newGini = calcGiniWithFeat(dataSet, i , splitVal)\n",
    "            if newGini < bestGini:\n",
    "                bestGini = newGini\n",
    "                bestFeat = i\n",
    "    return bestFeat\n"
   ]
  },
  {
   "cell_type": "code",
   "execution_count": 920,
   "metadata": {},
   "outputs": [
    {
     "data": {
      "text/plain": [
       "1"
      ]
     },
     "execution_count": 920,
     "metadata": {},
     "output_type": "execute_result"
    }
   ],
   "source": [
    "chooseBestSplit(dataSet)"
   ]
  },
  {
   "cell_type": "code",
   "execution_count": 921,
   "metadata": {},
   "outputs": [],
   "source": [
    "import operator \n",
    "def majorityCnt(classList):\n",
    "    classCount = {}\n",
    "    for vote in classList:\n",
    "        if vote not in classCount.keys():\n",
    "            classCount[vote] = 0\n",
    "        classCount[vote] += 1\n",
    "    sortedClassCount = sorted(classCount.items(),key=operator.itemgetter(1), reverse=True)\n",
    "    return sortedClassCount[0][0]"
   ]
  },
  {
   "cell_type": "code",
   "execution_count": 922,
   "metadata": {},
   "outputs": [],
   "source": [
    "# 满足特征条件的子数据集\n",
    "def splitDataSet(dataSet, bestFeat, value):\n",
    "    retDataSet = []\n",
    "    for featVec in dataSet:\n",
    "        if featVec[bestFeat] == value:\n",
    "            #print(\"vec\",featVec)\n",
    "            reducedFeatVec = featVec[:bestFeat]\n",
    "            temp_list = list(reducedFeatVec)\n",
    "            #print(featVec[bestFeat+1:])\n",
    "            temp_list.extend(featVec[bestFeat+1:])\n",
    "            #print(temp_list)\n",
    "            retDataSet.append(temp_list)\n",
    "    retDataSet = np.array(retDataSet)\n",
    "    return retDataSet\n",
    "            "
   ]
  },
  {
   "cell_type": "code",
   "execution_count": 923,
   "metadata": {},
   "outputs": [
    {
     "name": "stdout",
     "output_type": "stream",
     "text": [
      "<class 'numpy.ndarray'>\n"
     ]
    }
   ],
   "source": [
    "res = splitDataSet(dataSet, 1, 0)\n",
    "print(type(res))"
   ]
  },
  {
   "cell_type": "code",
   "execution_count": 924,
   "metadata": {},
   "outputs": [],
   "source": [
    "def CreateTree(dataSet, labels):\n",
    "    classList = [example[-1] for example in dataSet]\n",
    "    # 只有一种分类\n",
    "    if classList.count(classList[0]) == len(classList):\n",
    "        return classList[0]\n",
    "    # 只有一种特征\n",
    "    if len(dataSet[0]) == 1:\n",
    "        return majorityCnt(classList)\n",
    "    bestFeat = chooseBestSplit(dataSet)\n",
    "    bestFeatLabel = labels[bestFeat]\n",
    "   # print(\"bestFeat:\",bestFeat, \" bestlabel:\",bestFeatLabel)\n",
    "    myTree = {bestFeatLabel:{}}\n",
    "    np.delete(labels,bestFeat)\n",
    "    featValues = [example[bestFeat] for example in dataSet]\n",
    "    uniqueVals = set(featValues)\n",
    "    for value in uniqueVals:\n",
    "        subLabels = labels[:]\n",
    "        myTree[bestFeatLabel][value] = CreateTree(splitDataSet(dataSet, bestFeat, value), subLabels)\n",
    "       # print(\"subTree:\", myTree[bestFeatLabel][value])\n",
    "    return myTree"
   ]
  },
  {
   "cell_type": "code",
   "execution_count": 925,
   "metadata": {},
   "outputs": [],
   "source": [
    "ans = CreateTree(dataSet, features)"
   ]
  },
  {
   "cell_type": "code",
   "execution_count": 926,
   "metadata": {},
   "outputs": [
    {
     "data": {
      "text/plain": [
       "{'有工作': {0.0: {'有工作': {0.0: -1.0, 1.0: 1.0}}, 1.0: 1.0}}"
      ]
     },
     "execution_count": 926,
     "metadata": {},
     "output_type": "execute_result"
    }
   ],
   "source": [
    "ans"
   ]
  },
  {
   "cell_type": "code",
   "execution_count": 927,
   "metadata": {},
   "outputs": [],
   "source": [
    "def classify(inputTree, featLabels, testData):\n",
    "    print(inputTree)\n",
    "    firstStr = list(inputTree.keys())[0]\n",
    "    print(firstStr, type(firstStr))\n",
    "    secondDict = inputTree[firstStr]\n",
    "    #print(\"second:\",secondDict)\n",
    "    featIndex = featLabels.index(firstStr)\n",
    "    key = testData[featIndex]\n",
    "    print(\"testData:\",testData)\n",
    "    print(\"featIndex:\",featIndex, \"key:\",key)\n",
    "    value0Feat = secondDict[key]\n",
    "    print(\"value0Feat:\",value0Feat)\n",
    "    if isinstance(value0Feat, dict):\n",
    "        classLabel = classify(value0Feat, featLabels, testData)\n",
    "    else:\n",
    "        classLabel = value0Feat\n",
    "    return classLabel"
   ]
  },
  {
   "cell_type": "code",
   "execution_count": 928,
   "metadata": {},
   "outputs": [],
   "source": [
    "#classify(ans, features, testSet[0])"
   ]
  },
  {
   "cell_type": "code",
   "execution_count": 929,
   "metadata": {},
   "outputs": [],
   "source": [
    "def calcTestErr(myTree, testData, labels):\n",
    "    print(\"input:\",myTree)\n",
    "    errorCount = 0\n",
    "    for i in range(len(testData)):\n",
    "        if classify(myTree, labels,testData[i]) != testData[i][-1]:\n",
    "            errorCount += 1\n",
    "    print(\"未剪枝错误：\",errorCount)\n",
    "    return float(errorCount)"
   ]
  },
  {
   "cell_type": "code",
   "execution_count": 930,
   "metadata": {},
   "outputs": [],
   "source": [
    "def isTree(obj):\n",
    "    return (type(obj).__name__ == 'dict')"
   ]
  },
  {
   "cell_type": "code",
   "execution_count": 931,
   "metadata": {},
   "outputs": [],
   "source": [
    "def testMajor(major, dataTest):\n",
    "    error = 0.0\n",
    "    for i in range(len(dataTest)):\n",
    "        if major != dataTest[i][-1]:\n",
    "            error += 1\n",
    "    print(\"剪枝后错误：\",error)\n",
    "    return float(error)"
   ]
  },
  {
   "cell_type": "code",
   "execution_count": 932,
   "metadata": {},
   "outputs": [],
   "source": [
    "import copy\n",
    "#def pruningTree(inputTree, miniGain, evaluationFunc = calcGini):\n",
    "def pruningTree(inputTree, dataSet, testData, labels):\n",
    "    print(\"label:\",labels)\n",
    "    firstStr = list(inputTree.keys())[0]\n",
    "    secondDict = inputTree[firstStr]\n",
    "    classList = [example[-1] for example in dataSet]\n",
    "    featKey = copy.deepcopy(firstStr)\n",
    "    labelIndex = labels.index(featKey)\n",
    "    subLabels = copy.deepcopy(labels)\n",
    "    print(\"featKey:\",featKey, \"type:\", type(subLabels))\n",
    "    #(labels, labelIndex)\n",
    "    for key in list(secondDict.keys()):\n",
    "        if isTree(secondDict[key]):\n",
    "            subDataSet = splitDataSet(dataSet, labelIndex, key)\n",
    "            subTestSet = splitDataSet(testData, labelIndex, key)\n",
    "            print(\"subDataSet:\",subDataSet)\n",
    "            if (len(subDataSet) > 0 and len(subTestSet) > 0):\n",
    "                inputTree[firstStr][key] = pruningTree(secondDict[key], subDataSet,subTestSet, copy.deepcopy(labels))\n",
    "    if calcTestErr(inputTree,testData,subLabels) < testMajor(majorityCnt(classList), testData):\n",
    "        return inputTree\n",
    "    else:\n",
    "        return majorityCnt(classList)\n",
    "    "
   ]
  },
  {
   "cell_type": "code",
   "execution_count": 933,
   "metadata": {},
   "outputs": [
    {
     "name": "stdout",
     "output_type": "stream",
     "text": [
      "label: ['年龄', '有工作', '有自己的房子', '信贷情况']\n",
      "featKey: 有工作 type: <class 'list'>\n",
      "subDataSet: [[ 1.  1.  2.  1.]\n",
      " [ 1.  1.  2.  1.]\n",
      " [ 0.  0.  0. -1.]\n",
      " [ 0.  0.  0. -1.]\n",
      " [ 0.  0.  1. -1.]\n",
      " [ 1.  0.  1. -1.]\n",
      " [ 1.  0.  0. -1.]]\n",
      "label: ['年龄', '有工作', '有自己的房子', '信贷情况']\n",
      "featKey: 有工作 type: <class 'list'>\n",
      "input: {'有工作': {0.0: -1.0, 1.0: 1.0}}\n",
      "{'有工作': {0.0: -1.0, 1.0: 1.0}}\n",
      "有工作 <class 'str'>\n",
      "testData: [2. 1. 1. 1.]\n",
      "featIndex: 1 key: 1.0\n",
      "value0Feat: 1.0\n",
      "{'有工作': {0.0: -1.0, 1.0: 1.0}}\n",
      "有工作 <class 'str'>\n",
      "testData: [ 2.  0.  0. -1.]\n",
      "featIndex: 1 key: 0.0\n",
      "value0Feat: -1.0\n",
      "{'有工作': {0.0: -1.0, 1.0: 1.0}}\n",
      "有工作 <class 'str'>\n",
      "testData: [2. 1. 2. 1.]\n",
      "featIndex: 1 key: 1.0\n",
      "value0Feat: 1.0\n",
      "未剪枝错误： 0\n",
      "剪枝后错误： 2.0\n",
      "input: {'有工作': {0.0: {'有工作': {0.0: -1.0, 1.0: 1.0}}, 1.0: 1.0}}\n",
      "{'有工作': {0.0: {'有工作': {0.0: -1.0, 1.0: 1.0}}, 1.0: 1.0}}\n",
      "有工作 <class 'str'>\n",
      "testData: [2. 0. 1. 1. 1.]\n",
      "featIndex: 1 key: 0.0\n",
      "value0Feat: {'有工作': {0.0: -1.0, 1.0: 1.0}}\n",
      "{'有工作': {0.0: -1.0, 1.0: 1.0}}\n",
      "有工作 <class 'str'>\n",
      "testData: [2. 0. 1. 1. 1.]\n",
      "featIndex: 1 key: 0.0\n",
      "value0Feat: -1.0\n",
      "{'有工作': {0.0: {'有工作': {0.0: -1.0, 1.0: 1.0}}, 1.0: 1.0}}\n",
      "有工作 <class 'str'>\n",
      "testData: [ 2.  0.  0.  0. -1.]\n",
      "featIndex: 1 key: 0.0\n",
      "value0Feat: {'有工作': {0.0: -1.0, 1.0: 1.0}}\n",
      "{'有工作': {0.0: -1.0, 1.0: 1.0}}\n",
      "有工作 <class 'str'>\n",
      "testData: [ 2.  0.  0.  0. -1.]\n",
      "featIndex: 1 key: 0.0\n",
      "value0Feat: -1.0\n",
      "{'有工作': {0.0: {'有工作': {0.0: -1.0, 1.0: 1.0}}, 1.0: 1.0}}\n",
      "有工作 <class 'str'>\n",
      "testData: [2. 0. 1. 2. 1.]\n",
      "featIndex: 1 key: 0.0\n",
      "value0Feat: {'有工作': {0.0: -1.0, 1.0: 1.0}}\n",
      "{'有工作': {0.0: -1.0, 1.0: 1.0}}\n",
      "有工作 <class 'str'>\n",
      "testData: [2. 0. 1. 2. 1.]\n",
      "featIndex: 1 key: 0.0\n",
      "value0Feat: -1.0\n",
      "未剪枝错误： 2\n",
      "剪枝后错误： 1.0\n"
     ]
    },
    {
     "data": {
      "text/plain": [
       "1.0"
      ]
     },
     "execution_count": 933,
     "metadata": {},
     "output_type": "execute_result"
    }
   ],
   "source": [
    "pruningTree(ans, dataSet, testSet, features)"
   ]
  },
  {
   "cell_type": "code",
   "execution_count": null,
   "metadata": {},
   "outputs": [],
   "source": []
  },
  {
   "cell_type": "code",
   "execution_count": null,
   "metadata": {},
   "outputs": [],
   "source": []
  }
 ],
 "metadata": {
  "kernelspec": {
   "display_name": "py39",
   "language": "python",
   "name": "python3"
  },
  "language_info": {
   "codemirror_mode": {
    "name": "ipython",
    "version": 3
   },
   "file_extension": ".py",
   "mimetype": "text/x-python",
   "name": "python",
   "nbconvert_exporter": "python",
   "pygments_lexer": "ipython3",
   "version": "3.9.16"
  },
  "orig_nbformat": 4
 },
 "nbformat": 4,
 "nbformat_minor": 2
}
